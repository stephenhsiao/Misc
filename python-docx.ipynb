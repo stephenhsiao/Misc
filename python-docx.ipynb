{
 "cells": [
  {
   "cell_type": "markdown",
   "metadata": {},
   "source": [
    "# Python-docx\n",
    "\n",
    "This program re-format the wechat to the chat style. <br>\n",
    "Do pip install python-docx if the module is not installed yet."
   ]
  },
  {
   "cell_type": "code",
   "execution_count": 17,
   "metadata": {
    "collapsed": false
   },
   "outputs": [],
   "source": [
    "from docx import Document\n",
    "from docx .shared import Inches\n",
    "from docx .shared import Pt"
   ]
  },
  {
   "cell_type": "code",
   "execution_count": 18,
   "metadata": {
    "collapsed": false
   },
   "outputs": [],
   "source": [
    "# open the empty file with the right style\n",
    "f = open('c:/personal/qq/empty.docx', 'rb')\n",
    "doc2 = Document(f)"
   ]
  },
  {
   "cell_type": "code",
   "execution_count": 4,
   "metadata": {
    "collapsed": false
   },
   "outputs": [],
   "source": [
    "import docx2txt\n",
    "\n",
    "h = ''\n",
    "# extract text\n",
    "text = docx2txt.process('c:/personal/qq/draft.docx')\n",
    "lines = text.split('\\n')\n",
    "for line in lines:\n",
    "    if \"2017-\" in line:\n",
    "        words = line.split(' ')\n",
    "        d = words[1] \n",
    "        if (h != d):\n",
    "            pp = doc2.add_paragraph(d, style='Heading 1')\n",
    "            h = d\n",
    "    elif \"WeChat chat history between\" in line:\n",
    "        line = \"\"            \n",
    "    elif \"QQ\" in line:\n",
    "        pp = doc2.add_paragraph(line, style='Normal')\n",
    "    elif \"Stephen\" in line:\n",
    "        pp = doc2.add_paragraph(line, style='List 2')\n",
    "    elif len(line):\n",
    "        pp.add_run(\"\\n\"+line)"
   ]
  },
  {
   "cell_type": "code",
   "execution_count": 5,
   "metadata": {
    "collapsed": false
   },
   "outputs": [
    {
     "name": "stdout",
     "output_type": "stream",
     "text": [
      "\n",
      "2017-01-25 \n",
      "Stephen Hsiao  19:01\n",
      "刚刚看到你skype的message。哈哈哈！\n",
      "Stephen Hsiao  19:02\n",
      "下次我要code review才相信你的数据。[偷笑][偷笑][偷笑]\n",
      "Stephen Hsiao  19:05\n",
      "没有啦！下次我还是会继续相信你的数据（顶多跟你说这个数据有点出乎我意料之外[偷笑]），因为，我们都要对你越来越有把握，越来越有信心！[愉快][愉快][愉快]\n"
     ]
    }
   ],
   "source": [
    "for p in doc2.paragraphs:\n",
    "    print p.text"
   ]
  },
  {
   "cell_type": "code",
   "execution_count": 21,
   "metadata": {
    "collapsed": true
   },
   "outputs": [],
   "source": [
    "doc2.save('c:/personal/qq/final.docx')"
   ]
  },
  {
   "cell_type": "code",
   "execution_count": 23,
   "metadata": {
    "collapsed": false
   },
   "outputs": [],
   "source": [
    "# No do the skype doc\n",
    "f = open('c:/personal/qq/empty.docx', 'rb')\n",
    "doc2 = Document(f)\n",
    "h = ''\n",
    "# extract text\n",
    "text = docx2txt.process('c:/personal/qq/skype.docx')\n",
    "lines = text.split('\\n')\n",
    "for line in lines:\n",
    "    if \"/2017\" in line or \"/2016\" in line:\n",
    "        words = line.split(' ')\n",
    "        d = words[0] + \" \" + words[1] \n",
    "        if (h != d):\n",
    "            pp = doc2.add_paragraph(d, style='Heading 1')\n",
    "            h = d\n",
    "\n",
    "    elif \"Qingqing Gan \" in line:\n",
    "        pp = doc2.add_paragraph(line, style='Normal')\n",
    "    elif \"Stephen Hsiao \" in line:\n",
    "        pp = doc2.add_paragraph(line, style='List 2')\n",
    "    elif len(line):\n",
    "        pp.add_run(\"\\n\"+line)"
   ]
  },
  {
   "cell_type": "code",
   "execution_count": 24,
   "metadata": {
    "collapsed": true
   },
   "outputs": [],
   "source": [
    "doc2.save('c:/personal/qq/final.docx')"
   ]
  },
  {
   "cell_type": "code",
   "execution_count": null,
   "metadata": {
    "collapsed": true
   },
   "outputs": [],
   "source": []
  }
 ],
 "metadata": {
  "anaconda-cloud": {},
  "kernelspec": {
   "display_name": "Python [Root]",
   "language": "python",
   "name": "Python [Root]"
  },
  "language_info": {
   "codemirror_mode": {
    "name": "ipython",
    "version": 2
   },
   "file_extension": ".py",
   "mimetype": "text/x-python",
   "name": "python",
   "nbconvert_exporter": "python",
   "pygments_lexer": "ipython2",
   "version": "2.7.12"
  }
 },
 "nbformat": 4,
 "nbformat_minor": 0
}
