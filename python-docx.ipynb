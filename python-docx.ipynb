{
 "cells": [
  {
   "cell_type": "markdown",
   "metadata": {},
   "source": [
    "# Python-docx\n",
    "\n",
    "This program re-format the wechat to the chat style. <br>\n",
    "Do pip install python-docx if the module is not installed yet."
   ]
  },
  {
   "cell_type": "code",
   "execution_count": 3,
   "metadata": {
    "collapsed": false
   },
   "outputs": [],
   "source": [
    "from docx import Document\n",
    "from docx .shared import Inches\n",
    "from docx .shared import Pt"
   ]
  },
  {
   "cell_type": "code",
   "execution_count": 4,
   "metadata": {
    "collapsed": false
   },
   "outputs": [
    {
     "ename": "IOError",
     "evalue": "[Errno 2] No such file or directory: 'data/wechat2.docx'",
     "output_type": "error",
     "traceback": [
      "\u001b[1;31m---------------------------------------------------------------------------\u001b[0m",
      "\u001b[1;31mIOError\u001b[0m                                   Traceback (most recent call last)",
      "\u001b[1;32m<ipython-input-4-58fc58e680e7>\u001b[0m in \u001b[0;36m<module>\u001b[1;34m()\u001b[0m\n\u001b[0;32m      1\u001b[0m \u001b[1;31m# open the original file\u001b[0m\u001b[1;33m\u001b[0m\u001b[1;33m\u001b[0m\u001b[0m\n\u001b[1;32m----> 2\u001b[1;33m \u001b[0mf\u001b[0m \u001b[1;33m=\u001b[0m \u001b[0mopen\u001b[0m\u001b[1;33m(\u001b[0m\u001b[1;34m'data/wechat2.docx'\u001b[0m\u001b[1;33m,\u001b[0m \u001b[1;34m'rb'\u001b[0m\u001b[1;33m)\u001b[0m\u001b[1;33m\u001b[0m\u001b[0m\n\u001b[0m\u001b[0;32m      3\u001b[0m \u001b[0mdoc\u001b[0m \u001b[1;33m=\u001b[0m \u001b[0mDocument\u001b[0m\u001b[1;33m(\u001b[0m\u001b[0mf\u001b[0m\u001b[1;33m)\u001b[0m\u001b[1;33m\u001b[0m\u001b[0m\n\u001b[0;32m      4\u001b[0m \u001b[1;33m\u001b[0m\u001b[0m\n\u001b[0;32m      5\u001b[0m \u001b[1;31m# open the empty file with the right style\u001b[0m\u001b[1;33m\u001b[0m\u001b[1;33m\u001b[0m\u001b[0m\n",
      "\u001b[1;31mIOError\u001b[0m: [Errno 2] No such file or directory: 'data/wechat2.docx'"
     ]
    }
   ],
   "source": [
    "# open the original file\n",
    "f = open('data/wechat2.docx', 'rb')\n",
    "doc = Document(f)\n",
    "\n",
    "# open the empty file with the right style\n",
    "f = open('data/empty.docx', 'rb')\n",
    "doc2 = Document(f)"
   ]
  },
  {
   "cell_type": "code",
   "execution_count": 14,
   "metadata": {
    "collapsed": false
   },
   "outputs": [],
   "source": [
    "h = \"\"\n",
    "for p in doc.paragraphs:\n",
    "    lines = p.text.split('\\n')\n",
    "    for line in lines:\n",
    "        if \"2016-\" in line:\n",
    "            words = line.split(' ')\n",
    "            d = words[1]\n",
    "            if (h != d):\n",
    "                pp = doc2.add_paragraph(d, style='Heading 1')\n",
    "                h = d\n",
    "        elif \"WeChat chat history between\" in line:\n",
    "            line = \"\"            \n",
    "        elif \"QQ\" in line:\n",
    "            pp = doc2.add_paragraph(line, style='Normal')\n",
    "        elif \"Stephen\" in line:\n",
    "            pp = doc2.add_paragraph(line, style='List 2')\n",
    "        elif len(line):\n",
    "            pp.add_run(\"\\n\"+line)"
   ]
  },
  {
   "cell_type": "code",
   "execution_count": 15,
   "metadata": {
    "collapsed": false
   },
   "outputs": [
    {
     "name": "stdout",
     "output_type": "stream",
     "text": [
      "\n",
      "2016-11-01 \n",
      "QQ  08:25\n",
      "Steve，早\n",
      "QQ  08:25\n",
      "谢谢你的分享\n",
      "QQ  08:26\n",
      "很高兴听到他们还在一起\n",
      "QQ  08:26\n",
      "生活有照料和陪伴也是好事\n",
      "Stephen Hsiao  08:30\n",
      "青青，早。\n",
      "Stephen Hsiao  08:30\n",
      "是啊，人生是很孤单的。\n",
      "Stephen Hsiao  08:31\n",
      "可惜没让你投资的路多一些resource。/::<\n",
      "2016-11-02 \n",
      "Stephen Hsiao  17:49\n",
      "青青，晚上好，跟你讲个笑话。\n",
      "Stephen Hsiao  17:49\n",
      "昨天我载老婆跟女儿去吃晚饭，沿途，老婆跟女儿一直说\n",
      "『你开太快了』\n",
      "『你又超速了』\n",
      "Stephen Hsiao  17:50\n",
      "终于，老婆发飙了：『你今天是怎么搞的，要跟你讲几次你才可以守规矩一点，不要超速』\n",
      "Stephen Hsiao  17:50\n",
      "我很无辜的说：『我开车要看路况，不能一直看时速表，可是整条马路每一部车都开的比我快啊！』\n",
      "Stephen Hsiao  17:50\n",
      "忽然间，我女儿大叫：『爸爸，你的meter是KM/H不是MPH』[流泪][流泪][流泪]\n",
      "Stephen Hsiao  17:51\n",
      "下次看到Joseph，我一定要跟他说：『我终于明白，男人被冤枉，有苦说不出有多郁闷啊！』[偷笑]\n",
      "QQ  17:51\n",
      "哈哈 你新买的车吗？\n",
      "Stephen Hsiao  17:52\n",
      "那被骂也甘愿。\n",
      "Stephen Hsiao  17:52\n",
      "我只是昨天去换油而已。\n",
      "QQ  17:52\n",
      "那怎么会才发现是kmh\n",
      "Stephen Hsiao  17:53\n",
      "换了油，就来上班，然后就回家载他们去吃晚饭。\n",
      "Stephen Hsiao  17:53\n",
      "根本没注意到。\n",
      "QQ  17:53\n",
      "哦 换油的人无意帮你调了？\n",
      "Stephen Hsiao  17:54\n",
      "或是扒了电池，reset 了。\n",
      "QQ  17:54\n",
      "了解，误会就是这么容易产生\n",
      "Stephen Hsiao  17:54\n",
      "下次你要告诉她们不要随便judge人。\n",
      "Stephen Hsiao  17:58\n",
      "没什么事，只是觉得很好笑，跟你分享一下。我该回家了。晚安。\n",
      "QQ  17:58\n",
      "好，谢谢\n",
      "QQ  17:58\n",
      "晚安\n",
      "QQ  19:02\n",
      "很好笑的一件事\n",
      "QQ  19:02\n",
      "Joshua爸爸在这边\n",
      "QQ  19:02\n",
      "Joshua很紧张他又会像之前一样\n",
      "QQ  19:03\n",
      "做出各种奇葩不太能理解的事情\n",
      "QQ  19:03\n",
      "所以提醒我\n",
      "QQ  19:03\n",
      "怎么避免不必要的麻烦\n",
      "QQ  19:03\n",
      "结果我们开始讨论的时候才发现\n",
      "QQ  19:03\n",
      "他把之前的事情记得很清楚\n",
      "QQ  19:04\n",
      "我和他爸的冲突，前因后果，他和他爸的冲突\n",
      "QQ  19:04\n",
      "居然他全记得\n",
      "QQ  19:04\n",
      "我很大一部分都想不起来了\n",
      "QQ  19:04\n",
      "他提醒我都想不起来\n",
      "QQ  19:04\n",
      "这真的是谁的爸妈谁操心的多啊[Chuckle][Chuckle][Chuckle]\n",
      "Stephen Hsiao  19:31\n",
      "哈哈哈/::D/::D/::D\n"
     ]
    }
   ],
   "source": [
    "for p in doc2.paragraphs:\n",
    "    print p.text"
   ]
  },
  {
   "cell_type": "code",
   "execution_count": 11,
   "metadata": {
    "collapsed": true
   },
   "outputs": [],
   "source": [
    "doc2.save('final.docx')"
   ]
  },
  {
   "cell_type": "code",
   "execution_count": null,
   "metadata": {
    "collapsed": true
   },
   "outputs": [],
   "source": []
  }
 ],
 "metadata": {
  "anaconda-cloud": {},
  "kernelspec": {
   "display_name": "Python [Root]",
   "language": "python",
   "name": "Python [Root]"
  },
  "language_info": {
   "codemirror_mode": {
    "name": "ipython",
    "version": 2
   },
   "file_extension": ".py",
   "mimetype": "text/x-python",
   "name": "python",
   "nbconvert_exporter": "python",
   "pygments_lexer": "ipython2",
   "version": "2.7.12"
  }
 },
 "nbformat": 4,
 "nbformat_minor": 0
}
