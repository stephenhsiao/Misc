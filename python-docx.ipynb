{
 "cells": [
  {
   "cell_type": "markdown",
   "metadata": {},
   "source": [
    "# Python-docx\n",
    "\n",
    "This program re-format the wechat to the chat style. <br>\n",
    "Do pip install python-docx if the module is not installed yet."
   ]
  },
  {
   "cell_type": "code",
   "execution_count": 1,
   "metadata": {
    "collapsed": false
   },
   "outputs": [],
   "source": [
    "from docx import Document\n",
    "from docx .shared import Inches\n",
    "from docx .shared import Pt"
   ]
  },
  {
   "cell_type": "code",
   "execution_count": 2,
   "metadata": {
    "collapsed": false
   },
   "outputs": [],
   "source": [
    "# open the empty file with the right style\n",
    "f = open('c:/personal/qq/empty.docx', 'rb')\n",
    "doc2 = Document(f)"
   ]
  },
  {
   "cell_type": "code",
   "execution_count": 3,
   "metadata": {
    "collapsed": false
   },
   "outputs": [],
   "source": [
    "import docx2txt\n",
    "\n",
    "h = ''\n",
    "# extract text\n",
    "text = docx2txt.process('c:/personal/qq/wechat2.docx')\n",
    "lines = text.split('\\n')\n",
    "for line in lines:\n",
    "    if \"2016-\" in line:\n",
    "        words = line.split(' ')\n",
    "        d = words[1] \n",
    "        if (h != d):\n",
    "            pp = doc2.add_paragraph(d, style='Heading 1')\n",
    "            h = d\n",
    "    elif \"WeChat chat history between\" in line:\n",
    "        line = \"\"            \n",
    "    elif \"QQ\" in line:\n",
    "        pp = doc2.add_paragraph(line, style='Normal')\n",
    "    elif \"Stephen\" in line:\n",
    "        pp = doc2.add_paragraph(line, style='List 2')\n",
    "    elif len(line):\n",
    "        pp.add_run(\"\\n\"+line)"
   ]
  },
  {
   "cell_type": "code",
   "execution_count": 4,
   "metadata": {
    "collapsed": false
   },
   "outputs": [
    {
     "name": "stdout",
     "output_type": "stream",
     "text": [
      "\n",
      "2016-11-28 \n",
      "QQ  15:11\n",
      "[Images: 13afbdd7dedae418e4d9f76d3eb22216.jpg(View in attachment)]\n",
      "QQ  15:11\n",
      "[Images: 7f4ebdbd8fbbcbc5782f10911e4147c2.jpg(View in attachment)]\n",
      "QQ  15:11\n",
      "我爸让转发给你😊\n",
      "Stephen Hsiao  15:26\n",
      "帮我谢谢你爸，也祝他晚得开心。[微笑]\n",
      "Stephen Hsiao  15:27\n",
      "教完MAP跟MLE了吗？\n",
      "Stephen Hsiao  15:27\n",
      "http://www.cs.cmu.edu/~aarti/Class/10701_Spring14/slides/MLE_MAP_Part1.pdf\n",
      "Stephen Hsiao  15:27\n",
      "http://www.cs.cmu.edu/~aarti/Class/10701_Spring14/slides/MLE_MAP_Part2.pdf\n",
      "Stephen Hsiao  15:27\n",
      "这是我觉得讲解的很浅显易懂的slide。\n",
      "Stephen Hsiao  15:28\n",
      "如果你接下来还需要继续教，可以参考一下。\n",
      "Stephen Hsiao  15:29\n",
      "现在要去跟Robert做knowledge transfer。有空再跟你聊！[微笑]\n",
      "QQ  16:22\n",
      "教完了😱\n",
      "QQ  16:22\n",
      "花了两个半小时\n",
      "QQ  16:23\n",
      "教的还不错\n",
      "QQ  16:23\n",
      "只是markov chain的我还不会\n",
      "QQ  16:23\n",
      "所以明天mcmc可能要skip掉了\n",
      "QQ  16:26\n",
      "看了一眼slides，确实很不错\n",
      "QQ  16:26\n",
      "我收藏了\n"
     ]
    }
   ],
   "source": [
    "for p in doc2.paragraphs:\n",
    "    print p.text"
   ]
  },
  {
   "cell_type": "code",
   "execution_count": 21,
   "metadata": {
    "collapsed": true
   },
   "outputs": [],
   "source": [
    "doc2.save('c:/personal/qq/final.docx')"
   ]
  },
  {
   "cell_type": "code",
   "execution_count": null,
   "metadata": {
    "collapsed": true
   },
   "outputs": [],
   "source": []
  }
 ],
 "metadata": {
  "anaconda-cloud": {},
  "kernelspec": {
   "display_name": "Python [Root]",
   "language": "python",
   "name": "Python [Root]"
  },
  "language_info": {
   "codemirror_mode": {
    "name": "ipython",
    "version": 2
   },
   "file_extension": ".py",
   "mimetype": "text/x-python",
   "name": "python",
   "nbconvert_exporter": "python",
   "pygments_lexer": "ipython2",
   "version": "2.7.12"
  }
 },
 "nbformat": 4,
 "nbformat_minor": 0
}
