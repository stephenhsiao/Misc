{
 "cells": [
  {
   "cell_type": "markdown",
   "metadata": {},
   "source": [
    "# Python-docx\n",
    "\n",
    "This program re-format the wechat.\n",
    "First change all \"^l\" into \"^p\" in wechat2.docx before running this program"
   ]
  },
  {
   "cell_type": "code",
   "execution_count": 115,
   "metadata": {
    "collapsed": false
   },
   "outputs": [],
   "source": [
    "from docx import Document\n",
    "from docx.shared import Inches\n",
    "from docx.shared import Pt"
   ]
  },
  {
   "cell_type": "code",
   "execution_count": 116,
   "metadata": {
    "collapsed": false
   },
   "outputs": [],
   "source": [
    "# open the original file\n",
    "f = open('data/wechat2.docx', 'rb')\n",
    "doc = Document(f)\n",
    "\n",
    "# open the empty file with the right style\n",
    "f = open('data/empty.docx', 'rb')\n",
    "doc2 = Document(f)"
   ]
  },
  {
   "cell_type": "code",
   "execution_count": 119,
   "metadata": {
    "collapsed": false
   },
   "outputs": [],
   "source": [
    "for p in doc.paragraphs:\n",
    "    lines = p.text.split('\\n')\n",
    "    for line in lines:\n",
    "        if \"2016\" in line:\n",
    "            words = line.split(' ')\n",
    "            pp = doc2.add_paragraph(words[1], style='Heading 1')\n",
    "        elif \"WeChat chat history between\" in line:\n",
    "            line = \"\"            \n",
    "        elif \"QQ\" in line:\n",
    "            pp = doc2.add_paragraph(line, style='Normal')\n",
    "        elif \"Stephen\" in line:\n",
    "            pp = doc2.add_paragraph(line, style='List 2')\n",
    "        elif len(line):\n",
    "            pp.add_run(\"\\n\"+line)"
   ]
  },
  {
   "cell_type": "code",
   "execution_count": 120,
   "metadata": {
    "collapsed": true
   },
   "outputs": [],
   "source": [
    "doc2.save('final.docx')"
   ]
  },
  {
   "cell_type": "code",
   "execution_count": null,
   "metadata": {
    "collapsed": true
   },
   "outputs": [],
   "source": []
  }
 ],
 "metadata": {
  "anaconda-cloud": {},
  "kernelspec": {
   "display_name": "Python [Root]",
   "language": "python",
   "name": "Python [Root]"
  },
  "language_info": {
   "codemirror_mode": {
    "name": "ipython",
    "version": 2
   },
   "file_extension": ".py",
   "mimetype": "text/x-python",
   "name": "python",
   "nbconvert_exporter": "python",
   "pygments_lexer": "ipython2",
   "version": "2.7.12"
  }
 },
 "nbformat": 4,
 "nbformat_minor": 0
}
