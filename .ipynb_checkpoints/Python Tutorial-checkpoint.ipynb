{
 "cells": [
  {
   "cell_type": "code",
   "execution_count": 1,
   "metadata": {
    "collapsed": false
   },
   "outputs": [
    {
     "name": "stdout",
     "output_type": "stream",
     "text": [
      "Last updated: 14/09/16\n",
      "('Created using Python', '2.7.12')\n"
     ]
    }
   ],
   "source": [
    "import time\n",
    "import platform\n",
    "print('Last updated: %s' %time.strftime('%d/%m/%y'))\n",
    "print('Created using Python', platform.python_version())"
   ]
  },
  {
   "cell_type": "code",
   "execution_count": 7,
   "metadata": {
    "collapsed": false
   },
   "outputs": [
    {
     "name": "stdout",
     "output_type": "stream",
     "text": [
      "Hello World\n"
     ]
    }
   ],
   "source": [
    "def func_inside_script(x, y):\n",
    "    return x + y\n",
    "print 'Hello World'"
   ]
  },
  {
   "cell_type": "code",
   "execution_count": 8,
   "metadata": {
    "collapsed": false
   },
   "outputs": [
    {
     "data": {
      "text/plain": [
       "3"
      ]
     },
     "execution_count": 8,
     "metadata": {},
     "output_type": "execute_result"
    }
   ],
   "source": [
    "func_inside_script(1, 2)"
   ]
  },
  {
   "cell_type": "code",
   "execution_count": 9,
   "metadata": {
    "collapsed": false
   },
   "outputs": [
    {
     "data": {
      "image/png": "[encoded data removed]",
      "text/plain": [
       "<matplotlib.figure.Figure at 0x41e9be0>"
      ]
     },
     "metadata": {},
     "output_type": "display_data"
    }
   ],
   "source": [
    "%matplotlib inline\n",
    "import numpy as np\n",
    "from matplotlib import pyplot as plt\n",
    "import math\n",
    "\n",
    "def pdf(x, mu=0, sigma=1):\n",
    "    \"\"\"Calculates the normal distribution's probability density \n",
    "        function (PDF).  \n",
    "        \n",
    "    \"\"\"\n",
    "    term1 = 1.0 / ( math.sqrt(2*np.pi) * sigma )\n",
    "    term2 = np.exp( -0.5 * ( (x-mu)/sigma )**2 )\n",
    "    return term1 * term2\n",
    "\n",
    "\n",
    "x = np.arange(0, 100, 0.05)\n",
    "\n",
    "pdf1 = pdf(x, mu=5, sigma=2.5**0.5)\n",
    "pdf2 = pdf(x, mu=10, sigma=6**0.5)\n",
    "\n",
    "plt.plot(x, pdf1)\n",
    "plt.plot(x, pdf2)\n",
    "plt.title('Probability Density Functions')\n",
    "plt.ylabel('p(x)')\n",
    "plt.xlabel('random variable x')\n",
    "plt.legend(['pdf1 ~ N($\\mu=5$, $\\sigma=2.5$)', 'pdf2 ~ N($\\mu=10$, $\\sigma=6$)'], loc='upper right')\n",
    "plt.ylim([0,0.5])\n",
    "plt.xlim([0,20])\n",
    "\n",
    "plt.show()"
   ]
  },
  {
   "cell_type": "code",
   "execution_count": null,
   "metadata": {
    "collapsed": true
   },
   "outputs": [],
   "source": []
  }
 ],
 "metadata": {
  "anaconda-cloud": {},
  "kernelspec": {
   "display_name": "Python [Root]",
   "language": "python",
   "name": "Python [Root]"
  },
  "language_info": {
   "codemirror_mode": {
    "name": "ipython",
    "version": 2
   },
   "file_extension": ".py",
   "mimetype": "text/x-python",
   "name": "python",
   "nbconvert_exporter": "python",
   "pygments_lexer": "ipython2",
   "version": "2.7.12"
  }
 },
 "nbformat": 4,
 "nbformat_minor": 0
}
