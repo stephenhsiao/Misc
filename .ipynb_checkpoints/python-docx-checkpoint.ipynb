{
 "cells": [
  {
   "cell_type": "markdown",
   "metadata": {},
   "source": [
    "# Python-docx\n",
    "\n",
    "This program re-format the wechat to the chat style. <br>\n",
    "Do pip install python-docx if the module is not installed yet."
   ]
  },
  {
   "cell_type": "code",
   "execution_count": 6,
   "metadata": {
    "collapsed": false
   },
   "outputs": [],
   "source": [
    "# Import the needed libraries\n",
    "from docx import Document\n",
    "from docx .shared import Inches\n",
    "from docx .shared import Pt\n",
    "import docx2txt"
   ]
  },
  {
   "cell_type": "code",
   "execution_count": 7,
   "metadata": {
    "collapsed": false
   },
   "outputs": [],
   "source": [
    "# open the empty file with the right style for formating\n",
    "f = open('c:/personal/qq/empty.docx', 'rb')\n",
    "doc2 = Document(f)"
   ]
  },
  {
   "cell_type": "code",
   "execution_count": 8,
   "metadata": {
    "collapsed": false
   },
   "outputs": [],
   "source": [
    "# First, decide if this is wechat or skype\n",
    "h = ''\n",
    "# extract text\n",
    "text = docx2txt.process('c:/personal/qq/draft.docx')\n",
    "lines = text.split('\\n')\n",
    "for line in lines:\n",
    "    if \"2017-\" in line:\n",
    "        # This is wechat, use the second word for date\n",
    "        words = line.split(' ')\n",
    "        d = words[1] \n",
    "        if (h != d):\n",
    "            pp = doc2.add_paragraph(d, style='Heading 1')\n",
    "            h = d\n",
    "    elif \"/2017\" in line:\n",
    "        words = line.split(' ')\n",
    "        d = words[0] + \" \" + words[1] \n",
    "        if (h != d):\n",
    "            pp = doc2.add_paragraph(d, style='Heading 1')\n",
    "            h = d\n",
    "    elif \"WeChat chat history between\" in line:\n",
    "        line = \"\"            \n",
    "    elif \"QQ\" in line:\n",
    "        pp = doc2.add_paragraph(line, style='Normal')\n",
    "    elif \"Stephen\" in line:\n",
    "        pp = doc2.add_paragraph(line, style='List 2')\n",
    "    elif \"Qingqing Gan \" in line:\n",
    "        pp = doc2.add_paragraph(line, style='Normal')\n",
    "    elif \"Stephen Hsiao \" in line:\n",
    "        pp = doc2.add_paragraph(line, style='List 2')\n",
    "    elif len(line):\n",
    "        pp.add_run(\"\\n\"+line)"
   ]
  },
  {
   "cell_type": "code",
   "execution_count": 9,
   "metadata": {
    "collapsed": false
   },
   "outputs": [
    {
     "name": "stdout",
     "output_type": "stream",
     "text": [
      "\n",
      "Fri 1/27/2017\n",
      "Qingqing Gan 1:04 PM: \n",
      "hello Steve. almost 50% of HP only msn muids can be found in bing search log. \n",
      "Qingqing Gan 1:04 PM: \n",
      "good news huh? :)\n",
      "Qingqing Gan 1:04 PM: \n",
      "only if that i didn't count it wrong:)\n",
      "Qingqing Gan 1:04 PM: \n",
      "still verifying...\n",
      "Stephen Hsiao 2:02 PM: \n",
      "好棒好棒！:):):)\n",
      "Stephen Hsiao 2:03 PM: \n",
      "等verified了，再让我更高兴一下！:):):)\n"
     ]
    }
   ],
   "source": [
    "for p in doc2.paragraphs:\n",
    "    print p.text"
   ]
  },
  {
   "cell_type": "code",
   "execution_count": 10,
   "metadata": {
    "collapsed": true
   },
   "outputs": [],
   "source": [
    "doc2.save('c:/personal/qq/final.docx')"
   ]
  },
  {
   "cell_type": "code",
   "execution_count": null,
   "metadata": {
    "collapsed": true
   },
   "outputs": [],
   "source": []
  }
 ],
 "metadata": {
  "anaconda-cloud": {},
  "kernelspec": {
   "display_name": "Python [Root]",
   "language": "python",
   "name": "Python [Root]"
  },
  "language_info": {
   "codemirror_mode": {
    "name": "ipython",
    "version": 2
   },
   "file_extension": ".py",
   "mimetype": "text/x-python",
   "name": "python",
   "nbconvert_exporter": "python",
   "pygments_lexer": "ipython2",
   "version": "2.7.12"
  }
 },
 "nbformat": 4,
 "nbformat_minor": 0
}
