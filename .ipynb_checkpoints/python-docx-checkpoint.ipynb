{
 "cells": [
  {
   "cell_type": "code",
   "execution_count": 33,
   "metadata": {
    "collapsed": false
   },
   "outputs": [],
   "source": [
    "from docx import Document\n",
    "from docx.shared import Inches"
   ]
  },
  {
   "cell_type": "code",
   "execution_count": 43,
   "metadata": {
    "collapsed": false
   },
   "outputs": [],
   "source": [
    "f = open('data/wechat.docx', 'rb')\n",
    "doc = Document(f)"
   ]
  },
  {
   "cell_type": "code",
   "execution_count": 46,
   "metadata": {
    "collapsed": false
   },
   "outputs": [
    {
     "name": "stdout",
     "output_type": "stream",
     "text": [
      "WeChat chat history between QQ and Stephen Hsiao below\n",
      "\n",
      "—————  2016-02-08  —————\n",
      "\n",
      "QQ  08:41\n",
      "\n",
      "Hi Steve. 新年好！祝阖家欢乐，幸福安康*^_^*\n",
      "\n",
      "—————  2016-03-28  —————\n",
      "\n",
      "QQ  12:32\n",
      "\n",
      "Btw, define 贪心[Smile]\n",
      "\n",
      "QQ  12:33\n",
      "\n",
      "不劳而获吗？\n",
      "\n",
      "QQ  12:34\n",
      "\n",
      "我从来不相信这世上有这么好的事情[Joyful]\n",
      "\n",
      "QQ  12:49\n",
      "\n",
      "If there is something so easy to do, then everybody will do it[Smile]\n",
      "\n",
      "QQ  12:49\n",
      "\n",
      "If it's not something easy, then it's not 不劳而获 right？[Tongue]\n",
      "\n",
      "QQ  12:59\n",
      "\n",
      "对了，周末去邵师母家，她有在喝葡萄籽，你看看是这个牌子吗？\n",
      "\n",
      "QQ  12:59\n",
      "\n",
      "[Images: 08ea0142d13d0c0476823582e81a193c.jpg(View in attachment)]\n",
      "\n",
      "QQ  13:00\n",
      "\n",
      "我的意思是，请帮忙回想一下当时你吃的也是这个牌子的吗？\n",
      "\n",
      "Stephen Hsiao  13:10\n",
      "\n",
      "不要这么不平/::)，在这个context，贪心是个夸奖。意思是说你有很高的期望，要有品质，要有平衡，还要很optimum的投资报酬。这是不容易的，所以是贪心。对吧？但是也因为这样，才显得你很难得，令人佩服。可以吗？/:,@P\n",
      "\n",
      "QQ  13:11\n",
      "\n",
      "哈哈，这样可以😊\n",
      "\n",
      "QQ  13:12\n",
      "\n",
      "但是还没做到嘛，save it for later[Chuckle]\n",
      "\n",
      "Stephen Hsiao  13:13\n",
      "\n",
      "所以你很贪心，但是还没有令人佩服。哈哈。\n",
      "\n",
      "Stephen Hsiao  13:14\n",
      "\n",
      "没有啦，有勇气尝试，就令人佩服了。/::)\n",
      "\n",
      "Stephen Hsiao  13:16\n",
      "\n",
      "[Images: dc998e5af01ec0b9b30be7591c846c19.jpg(View in attachment)]\n",
      "\n",
      "Stephen Hsiao  13:17\n",
      "\n",
      "这是我吃的，叫OPC-3。成份可能差不多。\n",
      "\n",
      "QQ  13:20\n",
      "\n",
      "哪有那么高尚，其实就是“哪里有压迫，哪里就有反抗”（这是大陆早年很流行的一句话，战争年代的[Chuckle]），我被女儿”压迫”，所以要找方式反抗而已[Chuckle]\n",
      "\n",
      "QQ  13:20\n",
      "\n",
      "知道了，我之前也是吃的opc3，师母家的看起来也是同一个牌子\n",
      "\n",
      "QQ  13:20\n",
      "\n",
      "那我试试看\n",
      "\n",
      "QQ  13:21\n",
      "\n",
      "谢谢\n",
      "\n",
      "Stephen Hsiao  13:29\n",
      "\n",
      "不客气，希望有效。祝你反抗成功，将你女儿彻底打败。/::)\n",
      "\n",
      "Stephen Hsiao  13:32\n",
      "\n",
      "有人说，压迫不可怕，可怕的是对压迫的容忍。\n",
      "\n",
      "QQ  13:44\n",
      "\n",
      "哈哈 谢谢[Smile]\n",
      "\n",
      "—————  2016-03-31  —————\n",
      "\n",
      "\n",
      "Stephen Hsiao  23:15\n",
      "\n",
      "所以问题真的解决了，还是高兴的太早？\n",
      "\n",
      "QQ  23:16\n",
      "\n",
      "[Sob][Sob][Sob]\n",
      "\n",
      "QQ  23:16\n",
      "\n",
      "知道啦？\n",
      "\n",
      "QQ  23:16\n",
      "\n",
      "现在差更多，almost 10%[Sob]\n",
      "\n",
      "Stephen Hsiao  23:17\n",
      "\n",
      "[Sticker Gallery]\n",
      "\n",
      "Stephen Hsiao  23:17\n",
      "\n",
      "我陪你哭！！！\n",
      "\n",
      "Stephen Hsiao  23:18\n",
      "\n",
      "大久也走了，就更没希望了。\n",
      "\n",
      "QQ  23:18\n",
      "\n",
      "是滴\n",
      "\n",
      "Stephen Hsiao  23:18\n",
      "\n",
      "对问题了解多少\n",
      "\n",
      "QQ  23:19\n",
      "\n",
      "最开始extracting那边没问题\n",
      "\n",
      "QQ  23:19\n",
      "\n",
      "\n",
      "\n"
     ]
    }
   ],
   "source": [
    "for p in doc.paragraphs:\n",
    "    print p.text"
   ]
  },
  {
   "cell_type": "code",
   "execution_count": 36,
   "metadata": {
    "collapsed": true
   },
   "outputs": [],
   "source": [
    "doc.save('data/test.docx')"
   ]
  },
  {
   "cell_type": "code",
   "execution_count": null,
   "metadata": {
    "collapsed": true
   },
   "outputs": [],
   "source": []
  }
 ],
 "metadata": {
  "anaconda-cloud": {},
  "kernelspec": {
   "display_name": "Python [Root]",
   "language": "python",
   "name": "Python [Root]"
  },
  "language_info": {
   "codemirror_mode": {
    "name": "ipython",
    "version": 2
   },
   "file_extension": ".py",
   "mimetype": "text/x-python",
   "name": "python",
   "nbconvert_exporter": "python",
   "pygments_lexer": "ipython2",
   "version": "2.7.12"
  }
 },
 "nbformat": 4,
 "nbformat_minor": 0
}
