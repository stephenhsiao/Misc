{
 "cells": [
  {
   "cell_type": "markdown",
   "metadata": {},
   "source": [
    "# Python-docx\n",
    "\n",
    "This program re-format the wechat.\n",
    "First change all \"^l\" into \"^p\" in wechat2.docx before running this program"
   ]
  },
  {
   "cell_type": "code",
   "execution_count": 3,
   "metadata": {
    "collapsed": false
   },
   "outputs": [],
   "source": [
    "from docx import Document\n",
    "from docx.shared import Inches\n",
    "from docx.shared import Pt"
   ]
  },
  {
   "cell_type": "code",
   "execution_count": 14,
   "metadata": {
    "collapsed": false
   },
   "outputs": [],
   "source": [
    "# open the original file\n",
    "f = open('data/wechat2.docx', 'rb')\n",
    "doc = Document(f)\n",
    "\n",
    "# open the empty file with the right style\n",
    "f = open('data/empty.docx', 'rb')\n",
    "doc2 = Document(f)"
   ]
  },
  {
   "cell_type": "code",
   "execution_count": 15,
   "metadata": {
    "collapsed": false
   },
   "outputs": [],
   "source": [
    "for p in doc.paragraphs:\n",
    "    # print p.text\n",
    "    if \"2016\" in p.text:\n",
    "        pp = doc2.add_paragraph(p.text, style='Heading 1')\n",
    "    elif \"QQ\" in p.text:\n",
    "        pp = doc2.add_paragraph(p.text, style='Normal')\n",
    "    elif \"Stephen\" in p.text:\n",
    "        pp = doc2.add_paragraph(p.text, style='List 2')\n",
    "    elif len(p.text):\n",
    "        pp.add_run(\"\\n\"+p.text)    "
   ]
  },
  {
   "cell_type": "code",
   "execution_count": 16,
   "metadata": {
    "collapsed": false,
    "scrolled": true
   },
   "outputs": [
    {
     "name": "stdout",
     "output_type": "stream",
     "text": [
      "\n",
      "—————  2016-10-28  —————\n",
      "\n",
      "\n",
      "QQ  17:37\n",
      "\n",
      "周末要休息一下\n",
      "\n",
      "QQ  17:37\n",
      "\n",
      "继续努力\n",
      "\n",
      "QQ  17:37\n",
      "\n",
      "Steve，谢谢你的分享，这周照常很忙，没时间回复\n",
      "\n",
      "QQ  17:37\n",
      "\n",
      "祝你周末愉快\n",
      "\n",
      "Stephen Hsiao  17:41\n",
      "\n",
      "青青，知道你很忙。所以没有回复没有关系。\n",
      "\n",
      "Stephen Hsiao  17:41\n",
      "\n",
      "周末好好休息。\n",
      "\n",
      "Stephen Hsiao  17:42\n",
      "\n",
      "也祝你周末愉快！\n",
      "\n",
      "\n"
     ]
    }
   ],
   "source": [
    "for p in doc2.paragraphs:\n",
    "    print p.text"
   ]
  },
  {
   "cell_type": "code",
   "execution_count": 9,
   "metadata": {
    "collapsed": false
   },
   "outputs": [],
   "source": [
    "doc2.save('data/test.docx')"
   ]
  }
 ],
 "metadata": {
  "anaconda-cloud": {},
  "kernelspec": {
   "display_name": "Python [Root]",
   "language": "python",
   "name": "Python [Root]"
  },
  "language_info": {
   "codemirror_mode": {
    "name": "ipython",
    "version": 2
   },
   "file_extension": ".py",
   "mimetype": "text/x-python",
   "name": "python",
   "nbconvert_exporter": "python",
   "pygments_lexer": "ipython2",
   "version": "2.7.12"
  }
 },
 "nbformat": 4,
 "nbformat_minor": 0
}
